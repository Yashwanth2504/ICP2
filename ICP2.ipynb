{
  "nbformat": 4,
  "nbformat_minor": 0,
  "metadata": {
    "colab": {
      "provenance": []
    },
    "kernelspec": {
      "name": "python3",
      "display_name": "Python 3"
    },
    "language_info": {
      "name": "python"
    }
  },
  "cells": [
    {
      "cell_type": "markdown",
      "source": [
        "1. Create a class Employee and then do the following\n",
        "• Create a data member to count the number of Employees\n",
        "• Create a constructor to initialize name, family, salary, department\n",
        "• Create a function to average salary\n",
        "• Create a Fulltime Employee class and it should inherit the properties of Employee class\n",
        "• Create the instances of Fulltime Employee class and Employee class and call their member functions."
      ],
      "metadata": {
        "id": "49PTxgtsJp3f"
      }
    },
    {
      "cell_type": "code",
      "source": [
        "class Employee:\n",
        "    employee_count = 0  # Data member to count the number of Employees\n",
        "\n",
        "    def __init__(self, name, family, salary, department):\n",
        "        self.name = name\n",
        "        self.family = family\n",
        "        self.salary = salary\n",
        "        self.department = department\n",
        "        Employee.employee_count += 1\n",
        "\n",
        "    def average_salary(self, total_salary):\n",
        "        return total_salary / Employee.employee_count\n",
        "\n",
        "class FulltimeEmployee(Employee):\n",
        "    # Inheriting properties from the Employee class\n",
        "    pass\n",
        "\n",
        "# Creating instances of Employee class\n",
        "employee1 = Employee(\"Yashwanth\", \"Polneni\", 200000, \"HR\")\n",
        "employee2 = Employee(\"Vijay\", \"Bhaskar\", 80000, \"IT\")\n",
        "\n",
        "# Creating instances of FulltimeEmployee class\n",
        "fulltime_employee1 = FulltimeEmployee(\"Lucky\", \"Reddy\", 70000, \"Finance\")\n",
        "fulltime_employee2 = FulltimeEmployee(\"Loki\", \"Lokesh\", 60000, \"Marketing\")\n",
        "\n",
        "# Calling member functions\n",
        "total_salary_employees = employee1.salary + employee2.salary\n",
        "average_salary_employees = employee1.average_salary(total_salary_employees)\n",
        "\n",
        "total_salary_fulltime_employees = fulltime_employee1.salary + fulltime_employee2.salary\n",
        "average_salary_fulltime_employees = fulltime_employee1.average_salary(total_salary_fulltime_employees)\n",
        "\n",
        "# Displaying results\n",
        "print(\"Average Salary for Employees:\", average_salary_employees)\n",
        "print(\"Average Salary for Fulltime Employees:\", average_salary_fulltime_employees)"
      ],
      "metadata": {
        "colab": {
          "base_uri": "https://localhost:8080/"
        },
        "id": "Y7jxSB4XJ9uN",
        "outputId": "7381f547-8698-4a13-8181-b049ddeacceb"
      },
      "execution_count": 6,
      "outputs": [
        {
          "output_type": "stream",
          "name": "stdout",
          "text": [
            "Average Salary for Employees: 70000.0\n",
            "Average Salary for Fulltime Employees: 32500.0\n"
          ]
        }
      ]
    },
    {
      "cell_type": "markdown",
      "source": [
        "2. Numpy\n",
        "Using NumPy create random vector of size 20 having only float in the range 1-20.\n",
        "Then reshape the array to 4 by 5\n",
        "Then replace the max in each row by 0 (axis=1)\n",
        "(you can NOT implement it via for loop)"
      ],
      "metadata": {
        "id": "m9xODUaLLRiZ"
      }
    },
    {
      "cell_type": "code",
      "source": [
        "# Import the NumPy library and alias it as 'np' for brevity and convention.\n",
        "import numpy as np\n",
        "\n",
        "# Create a random vector of size 20 with floats in the range 1-20\n",
        "random_vector = np.random.uniform(1, 20, 20)\n",
        "\n",
        "print(\"Original Random Vector:\\n\", random_vector)"
      ],
      "metadata": {
        "colab": {
          "base_uri": "https://localhost:8080/"
        },
        "id": "XbdHYAeeLTl6",
        "outputId": "ff2fdd0b-63b7-4a1c-a3d9-a3f82f4e79da"
      },
      "execution_count": 7,
      "outputs": [
        {
          "output_type": "stream",
          "name": "stdout",
          "text": [
            "Original Random Vector:\n",
            " [17.80415106  9.52765923  2.88787368 14.37015557 15.49952502 16.94020624\n",
            " 16.58653919  8.64956199  5.22977406 15.07709748 12.77279528  7.13744974\n",
            " 16.98808919  9.75738691 18.39519337 12.05685587 12.41582629  9.17755999\n",
            " 13.847821   16.75668494]\n"
          ]
        }
      ]
    },
    {
      "cell_type": "code",
      "source": [
        "# Reshape the array to 4 by 5 (4 rows and 5 columns)\n",
        "reshaped_array = random_vector.reshape(4, 5)\n",
        "\n",
        "print(reshaped_array)"
      ],
      "metadata": {
        "colab": {
          "base_uri": "https://localhost:8080/"
        },
        "id": "f6RCb4LhLjM4",
        "outputId": "b2960b68-6212-4388-f115-846eb53f9aa6"
      },
      "execution_count": 8,
      "outputs": [
        {
          "output_type": "stream",
          "name": "stdout",
          "text": [
            "[[17.80415106  9.52765923  2.88787368 14.37015557 15.49952502]\n",
            " [16.94020624 16.58653919  8.64956199  5.22977406 15.07709748]\n",
            " [12.77279528  7.13744974 16.98808919  9.75738691 18.39519337]\n",
            " [12.05685587 12.41582629  9.17755999 13.847821   16.75668494]]\n"
          ]
        }
      ]
    },
    {
      "cell_type": "code",
      "source": [
        "# Replace the max in each row by 0 (axis=1)\n",
        "reshaped_array[np.arange(4), reshaped_array.argmax(axis=1)] = 0\n",
        "\n",
        "print(\"Reshaped Array:\\n\", reshaped_array)\n",
        ""
      ],
      "metadata": {
        "colab": {
          "base_uri": "https://localhost:8080/"
        },
        "id": "wo2qy2ccLrz6",
        "outputId": "b72db900-6d8b-42cd-87c3-bc3829b40357"
      },
      "execution_count": 9,
      "outputs": [
        {
          "output_type": "stream",
          "name": "stdout",
          "text": [
            "Reshaped Array:\n",
            " [[ 0.          9.52765923  2.88787368 14.37015557 15.49952502]\n",
            " [ 0.         16.58653919  8.64956199  5.22977406 15.07709748]\n",
            " [12.77279528  7.13744974 16.98808919  9.75738691  0.        ]\n",
            " [12.05685587 12.41582629  9.17755999 13.847821    0.        ]]\n"
          ]
        }
      ]
    },
    {
      "cell_type": "markdown",
      "source": [
        "Video Link - https://drive.google.com/file/d/1XCVsqbnZ4eWisQhAle_aKahXPyTnQVyZ/view?usp=drive_link"
      ],
      "metadata": {
        "id": "hB-IDFTaePKB"
      }
    }
  ]
}